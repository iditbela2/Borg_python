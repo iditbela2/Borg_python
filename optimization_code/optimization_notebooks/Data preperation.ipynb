{
 "cells": [
  {
   "cell_type": "code",
   "execution_count": 4,
   "metadata": {},
   "outputs": [],
   "source": [
    "import numpy as np\n",
    "import scipy.io as sio\n",
    "import datetime\n",
    "import tqdm\n",
    "import pandas as pd \n",
    "import matplotlib.pyplot as plt\n",
    "from sklearn.model_selection import train_test_split\n",
    "from sklearn import preprocessing\n",
    "import seaborn as sns\n",
    "sns.set(style=\"ticks\", color_codes=True)\n",
    "from itertools import combinations \n",
    "\n",
    "from IPython.core.interactiveshell import InteractiveShell\n",
    "InteractiveShell.ast_node_interactivity = \"all\""
   ]
  },
  {
   "cell_type": "code",
   "execution_count": null,
   "metadata": {},
   "outputs": [],
   "source": [
    "thr = 1\n",
    "dyR = 1 \n",
    "[total_PED_sensors_winds_mult,total_ind] = calculate4DmatOfPED(Q_source,sensorArray,thr,dyR)"
   ]
  },
  {
   "cell_type": "code",
   "execution_count": 9,
   "metadata": {},
   "outputs": [],
   "source": [
    "windfrequencies7x8RPHaderawithSC = pd.read_csv('/Users/iditbela/Documents/Shai_Kendler/Borg-1.9/meteorological_data/wind_frequencies_7x8_RP_Hadera_with_SC.csv')"
   ]
  },
  {
   "cell_type": "code",
   "execution_count": 30,
   "metadata": {},
   "outputs": [
    {
     "data": {
      "text/html": [
       "<div>\n",
       "<style scoped>\n",
       "    .dataframe tbody tr th:only-of-type {\n",
       "        vertical-align: middle;\n",
       "    }\n",
       "\n",
       "    .dataframe tbody tr th {\n",
       "        vertical-align: top;\n",
       "    }\n",
       "\n",
       "    .dataframe thead th {\n",
       "        text-align: right;\n",
       "    }\n",
       "</style>\n",
       "<table border=\"1\" class=\"dataframe\">\n",
       "  <thead>\n",
       "    <tr style=\"text-align: right;\">\n",
       "      <th></th>\n",
       "      <th>Unnamed: 0</th>\n",
       "      <th>s</th>\n",
       "      <th>d</th>\n",
       "      <th>sc</th>\n",
       "      <th>count</th>\n",
       "      <th>percent</th>\n",
       "    </tr>\n",
       "  </thead>\n",
       "  <tbody>\n",
       "    <tr>\n",
       "      <th>0</th>\n",
       "      <td>0</td>\n",
       "      <td>0-1</td>\n",
       "      <td>337.5-22.5</td>\n",
       "      <td>A</td>\n",
       "      <td>254.0</td>\n",
       "      <td>0.000325</td>\n",
       "    </tr>\n",
       "    <tr>\n",
       "      <th>1</th>\n",
       "      <td>1</td>\n",
       "      <td>0-1</td>\n",
       "      <td>337.5-22.5</td>\n",
       "      <td>B</td>\n",
       "      <td>160.0</td>\n",
       "      <td>0.000205</td>\n",
       "    </tr>\n",
       "    <tr>\n",
       "      <th>2</th>\n",
       "      <td>2</td>\n",
       "      <td>0-1</td>\n",
       "      <td>337.5-22.5</td>\n",
       "      <td>C</td>\n",
       "      <td>164.0</td>\n",
       "      <td>0.000210</td>\n",
       "    </tr>\n",
       "    <tr>\n",
       "      <th>3</th>\n",
       "      <td>3</td>\n",
       "      <td>0-1</td>\n",
       "      <td>337.5-22.5</td>\n",
       "      <td>D</td>\n",
       "      <td>280.0</td>\n",
       "      <td>0.000358</td>\n",
       "    </tr>\n",
       "    <tr>\n",
       "      <th>4</th>\n",
       "      <td>4</td>\n",
       "      <td>0-1</td>\n",
       "      <td>337.5-22.5</td>\n",
       "      <td>E</td>\n",
       "      <td>182.0</td>\n",
       "      <td>0.000233</td>\n",
       "    </tr>\n",
       "    <tr>\n",
       "      <th>5</th>\n",
       "      <td>5</td>\n",
       "      <td>0-1</td>\n",
       "      <td>337.5-22.5</td>\n",
       "      <td>F</td>\n",
       "      <td>445.0</td>\n",
       "      <td>0.000570</td>\n",
       "    </tr>\n",
       "    <tr>\n",
       "      <th>6</th>\n",
       "      <td>6</td>\n",
       "      <td>0-1</td>\n",
       "      <td>22.5-67.5</td>\n",
       "      <td>A</td>\n",
       "      <td>237.0</td>\n",
       "      <td>0.000303</td>\n",
       "    </tr>\n",
       "    <tr>\n",
       "      <th>7</th>\n",
       "      <td>7</td>\n",
       "      <td>0-1</td>\n",
       "      <td>22.5-67.5</td>\n",
       "      <td>B</td>\n",
       "      <td>178.0</td>\n",
       "      <td>0.000228</td>\n",
       "    </tr>\n",
       "    <tr>\n",
       "      <th>8</th>\n",
       "      <td>8</td>\n",
       "      <td>0-1</td>\n",
       "      <td>22.5-67.5</td>\n",
       "      <td>C</td>\n",
       "      <td>278.0</td>\n",
       "      <td>0.000356</td>\n",
       "    </tr>\n",
       "    <tr>\n",
       "      <th>9</th>\n",
       "      <td>9</td>\n",
       "      <td>0-1</td>\n",
       "      <td>22.5-67.5</td>\n",
       "      <td>D</td>\n",
       "      <td>609.0</td>\n",
       "      <td>0.000780</td>\n",
       "    </tr>\n",
       "    <tr>\n",
       "      <th>10</th>\n",
       "      <td>10</td>\n",
       "      <td>0-1</td>\n",
       "      <td>22.5-67.5</td>\n",
       "      <td>E</td>\n",
       "      <td>618.0</td>\n",
       "      <td>0.000791</td>\n",
       "    </tr>\n",
       "    <tr>\n",
       "      <th>11</th>\n",
       "      <td>11</td>\n",
       "      <td>0-1</td>\n",
       "      <td>22.5-67.5</td>\n",
       "      <td>F</td>\n",
       "      <td>1168.0</td>\n",
       "      <td>0.001495</td>\n",
       "    </tr>\n",
       "  </tbody>\n",
       "</table>\n",
       "</div>"
      ],
      "text/plain": [
       "    Unnamed: 0    s           d sc   count   percent\n",
       "0            0  0-1  337.5-22.5  A   254.0  0.000325\n",
       "1            1  0-1  337.5-22.5  B   160.0  0.000205\n",
       "2            2  0-1  337.5-22.5  C   164.0  0.000210\n",
       "3            3  0-1  337.5-22.5  D   280.0  0.000358\n",
       "4            4  0-1  337.5-22.5  E   182.0  0.000233\n",
       "5            5  0-1  337.5-22.5  F   445.0  0.000570\n",
       "6            6  0-1   22.5-67.5  A   237.0  0.000303\n",
       "7            7  0-1   22.5-67.5  B   178.0  0.000228\n",
       "8            8  0-1   22.5-67.5  C   278.0  0.000356\n",
       "9            9  0-1   22.5-67.5  D   609.0  0.000780\n",
       "10          10  0-1   22.5-67.5  E   618.0  0.000791\n",
       "11          11  0-1   22.5-67.5  F  1168.0  0.001495"
      ]
     },
     "execution_count": 30,
     "metadata": {},
     "output_type": "execute_result"
    },
    {
     "data": {
      "text/plain": [
       "336"
      ]
     },
     "execution_count": 30,
     "metadata": {},
     "output_type": "execute_result"
    }
   ],
   "source": [
    "windfrequencies7x8RPHaderawithSC.head(12)\n",
    "np.shape(windfrequencies7x8RPHaderawithSC)[0]"
   ]
  },
  {
   "cell_type": "code",
   "execution_count": 45,
   "metadata": {},
   "outputs": [
    {
     "data": {
      "text/html": [
       "<div>\n",
       "<style scoped>\n",
       "    .dataframe tbody tr th:only-of-type {\n",
       "        vertical-align: middle;\n",
       "    }\n",
       "\n",
       "    .dataframe tbody tr th {\n",
       "        vertical-align: top;\n",
       "    }\n",
       "\n",
       "    .dataframe thead th {\n",
       "        text-align: right;\n",
       "    }\n",
       "</style>\n",
       "<table border=\"1\" class=\"dataframe\">\n",
       "  <thead>\n",
       "    <tr style=\"text-align: right;\">\n",
       "      <th></th>\n",
       "      <th>ws</th>\n",
       "      <th>wd</th>\n",
       "      <th>sc</th>\n",
       "      <th>perc</th>\n",
       "    </tr>\n",
       "  </thead>\n",
       "  <tbody>\n",
       "    <tr>\n",
       "      <th>0</th>\n",
       "      <td>1.0</td>\n",
       "      <td>0.0</td>\n",
       "      <td>1.0</td>\n",
       "      <td>0.000325</td>\n",
       "    </tr>\n",
       "    <tr>\n",
       "      <th>1</th>\n",
       "      <td>1.0</td>\n",
       "      <td>0.0</td>\n",
       "      <td>2.0</td>\n",
       "      <td>0.000205</td>\n",
       "    </tr>\n",
       "    <tr>\n",
       "      <th>2</th>\n",
       "      <td>1.0</td>\n",
       "      <td>0.0</td>\n",
       "      <td>3.0</td>\n",
       "      <td>0.000210</td>\n",
       "    </tr>\n",
       "    <tr>\n",
       "      <th>3</th>\n",
       "      <td>1.0</td>\n",
       "      <td>0.0</td>\n",
       "      <td>4.0</td>\n",
       "      <td>0.000358</td>\n",
       "    </tr>\n",
       "    <tr>\n",
       "      <th>4</th>\n",
       "      <td>1.0</td>\n",
       "      <td>0.0</td>\n",
       "      <td>5.0</td>\n",
       "      <td>0.000233</td>\n",
       "    </tr>\n",
       "  </tbody>\n",
       "</table>\n",
       "</div>"
      ],
      "text/plain": [
       "    ws   wd   sc      perc\n",
       "0  1.0  0.0  1.0  0.000325\n",
       "1  1.0  0.0  2.0  0.000205\n",
       "2  1.0  0.0  3.0  0.000210\n",
       "3  1.0  0.0  4.0  0.000358\n",
       "4  1.0  0.0  5.0  0.000233"
      ]
     },
     "execution_count": 45,
     "metadata": {},
     "output_type": "execute_result"
    }
   ],
   "source": [
    "    data = np.zeros((np.shape(windfrequencies7x8RPHaderawithSC)[0],4))\n",
    "    windfrequencies = pd.DataFrame(data = data, columns = ['ws','wd','sc','perc'])\n",
    "    ws_list = [1, 2, 4, 6, 8, 10, 20]\n",
    "    ind = 0 \n",
    "    for i in ws_list: # index it ends with \n",
    "        for j in np.arange(0,337.5,45):\n",
    "            for k in range(1,7):\n",
    "                windfrequencies.loc[ind,'ws']=i\n",
    "                windfrequencies.loc[ind,'wd']=j\n",
    "                windfrequencies.loc[ind,'sc']=k\n",
    "                ind = ind + 1\n",
    "windfrequencies['perc'] = windfrequencies7x8RPHaderawithSC['percent']\n",
    "windfrequencies.head()"
   ]
  },
  {
   "cell_type": "code",
   "execution_count": 47,
   "metadata": {},
   "outputs": [],
   "source": [
    "S,D,SC = np.meshgrid([0.5, 1.5, 3, 5, 7, 9, 12],[0, 45, 90, 135, 180, 225, 270, 315],[range(1,7)])"
   ]
  },
  {
   "cell_type": "code",
   "execution_count": 72,
   "metadata": {
    "scrolled": true
   },
   "outputs": [],
   "source": [
    "WF = windfrequencies['perc'].values.reshape(np.shape(D),order = 'F') # python's order is 'C' while Matlab's is 'F'"
   ]
  },
  {
   "cell_type": "code",
   "execution_count": 76,
   "metadata": {},
   "outputs": [
    {
     "data": {
      "text/plain": [
       "0.00020481389457460797"
      ]
     },
     "execution_count": 76,
     "metadata": {},
     "output_type": "execute_result"
    }
   ],
   "source": [
    "WF[1,0,0]"
   ]
  },
  {
   "cell_type": "code",
   "execution_count": 63,
   "metadata": {},
   "outputs": [
    {
     "data": {
      "text/plain": [
       "6"
      ]
     },
     "execution_count": 63,
     "metadata": {},
     "output_type": "execute_result"
    }
   ],
   "source": [
    "np.size(sensorArray,1)"
   ]
  },
  {
   "cell_type": "code",
   "execution_count": 17,
   "metadata": {},
   "outputs": [
    {
     "ename": "SyntaxError",
     "evalue": "invalid syntax (<ipython-input-17-cad6e8099711>, line 34)",
     "output_type": "error",
     "traceback": [
      "\u001b[0;36m  File \u001b[0;32m\"<ipython-input-17-cad6e8099711>\"\u001b[0;36m, line \u001b[0;32m34\u001b[0m\n\u001b[0;31m    for i in [1 2 4 6 8 10 20]: # index it ends with\u001b[0m\n\u001b[0m                ^\u001b[0m\n\u001b[0;31mSyntaxError\u001b[0m\u001b[0;31m:\u001b[0m invalid syntax\n"
     ]
    }
   ],
   "source": [
    "# EDIT THIS FUNCTION LATER. SHOULD NOT BE A FUNCTION, BUT A SCRIPT\n",
    "def calculate4DmatOfPED(Q_source,sensorArray,thr,dyR):\n",
    "\n",
    "    ''' This script calculates in advance the 4D matrix of PED for each\n",
    "    sensor placement and for each wind speed and direction. It calls the\n",
    "    function calcSensorsPED which does it for a certain wind speed and\n",
    "    direction (and average Q_source). Then it multiplies by wind frequencies. \n",
    "    The PED is just the .^2 of the norm between each 2 relevant states for each of the X possible sensors, \n",
    "    after taking into consideration the wind frequency.\n",
    "    During the optimization I sum all\n",
    "    relevant sensors out of X possible sensors and take the sqrt. Then I have 355x1 matrix\n",
    "    from which I can calculate the mean of the min_PED or what ever function.'''\n",
    "      \n",
    "    thr = 1\n",
    "    dyR = 1\n",
    "\n",
    "    # wind frequencies speed: (<1, 1-2, 2-4, 4-6, 6-8, 8-10, >10) \n",
    "    # wind frequencies directions: 8 directions, 45 degrees each - north, east,\n",
    "    # south, west and in between. \n",
    "\n",
    "    global total_readings # aggregate all readings to see range of values \n",
    "    global total_fields\n",
    "\n",
    "    total_readings = []\n",
    "    total_fields = []\n",
    "\n",
    "    all_relevant_variations_size = 355 # relevant variations are only those of different number of active sources, not including moving from zero to x sources\n",
    "\n",
    "    # load the original csv file and turn it to an array \n",
    "    # ALL (not seperating to day and night)\n",
    "    data = np.zeros((np.shape(windfrequencies7x8RPHaderawithSC)[0],4))\n",
    "    windfrequencies = pd.DataFrame(data = data, columns = ['ws','wd','sc','perc'])\n",
    "    ws_list = [0.5, 1.5, 3, 5, 7, 9, 12]\n",
    "    ind = 0 \n",
    "    for i in ws_list: # ws I apply\n",
    "        for j in np.arange(0,337.5,45): # wd I apply\n",
    "            for k in range(1,7): # stability class\n",
    "                windfrequencies.loc[ind,'ws']=i\n",
    "                windfrequencies.loc[ind,'wd']=j\n",
    "                windfrequencies.loc[ind,'sc']=k\n",
    "                ind = ind + 1\n",
    "                \n",
    "    windfrequencies['perc'] = windfrequencies7x8RPHaderawithSC['percent']\n",
    "\n",
    "    \n",
    "    # NOT SURE ALL HERE IS NECESSARY AND NP.SIZE HAS ZERO INDEX AS WELL !\n",
    "    \n",
    "#     # create a matrix of wind speeds and directions \n",
    "#     S,D,SC = np.meshgrid([0.5, 1.5, 3, 5, 7, 9, 12],[0, 45, 90, 135, 180, 225, 270, 315],[range(1,7)])\n",
    "#     # reshape windfrequencies to matrix \n",
    "#     WF = windfrequencies['perc'].values.reshape(np.shape(D))\n",
    "\n",
    "\n",
    "\n",
    "    NumOfSens = np.size(sensorArray,1)\n",
    "    total_PED_sensors_winds = zeros(size(WF,1),size(WF,2),size(WF,3),all_relevant_variations_size,NumOfSens);\n",
    "\n",
    "    for i=1:size(S,2) # WS - 7\n",
    "        for j=1:size(S,1) # WD - 8\n",
    "            for k=1:size(S,3)\n",
    "                WS = S(1,i,1)\n",
    "                WD = D(j,1,1)\n",
    "                ASC = SC(1,1,k)\n",
    "                wf = WF(j,i,k);\n",
    "                [total_PED_sensors,total_ind]=calcSensorsPED(Q_source,sensorArray,WD,WS,ASC,wf,thr,dyR);\n",
    "                total_PED_sensors_winds(j,i,k,:,:)=total_PED_sensors;\n",
    "\n",
    "\n",
    "    # NOTE - I think in this approach I give the weight to the already\n",
    "    # calculated PED value. In the second approach, I generate average\n",
    "    # concentration maps and then calculate the PED value. its the same if I\n",
    "    # multiply in the following by WF^2\n",
    "    # multiply by wind frequencies (deprecated, because it was not done in the right place)\n",
    "    # for n=1:NumOfSens\n",
    "    #   for m=1:all_relevant_variations_size\n",
    "    #        total_PED_sensors_winds(:,:,m,n) = total_PED_sensors_winds(:,:,m,n).*WF; \n",
    "    #    end\n",
    "    # end\n",
    "\n",
    "    total_PED_sensors_winds_mult = squeeze(sum(sum(sum(total_PED_sensors_winds,1),2),3));\n",
    "\n",
    "    \n",
    "    \n",
    "    return total_PED_sensors_winds_mult, total_ind"
   ]
  },
  {
   "cell_type": "code",
   "execution_count": 225,
   "metadata": {},
   "outputs": [],
   "source": [
    "# IN CASE I WILL WANT TO TRY NOT 0/1 TRAINING\n",
    "\n",
    "# from itertools import combinations \n",
    "\n",
    "# comb = product([0.0, 0.5, 1.0, 1.5], repeat=5)\n",
    "\n",
    "# cnt = 1\n",
    "# # Print the obtained combinations \n",
    "# for i in list(comb): \n",
    "#     i\n",
    "#     cnt = cnt + 1 \n",
    "# cnt\n"
   ]
  },
  {
   "cell_type": "code",
   "execution_count": 243,
   "metadata": {},
   "outputs": [
    {
     "data": {
      "text/plain": [
       "array([0., 1., 1., 2., 1., 2., 2., 3., 1., 2., 2., 3., 2., 3., 3., 4., 1.,\n",
       "       2., 2., 3., 2., 3., 3., 4., 2., 3., 3., 4., 3., 4., 4., 5.])"
      ]
     },
     "execution_count": 243,
     "metadata": {},
     "output_type": "execute_result"
    }
   ],
   "source": [
    "total_active = np.sum(total_s,axis=1)\n",
    "total_active"
   ]
  },
  {
   "cell_type": "code",
   "execution_count": 247,
   "metadata": {},
   "outputs": [
    {
     "data": {
      "text/plain": [
       "(32,)"
      ]
     },
     "execution_count": 247,
     "metadata": {},
     "output_type": "execute_result"
    }
   ],
   "source": [
    "np.shape(total_active)"
   ]
  },
  {
   "cell_type": "code",
   "execution_count": 272,
   "metadata": {},
   "outputs": [
    {
     "name": "stdout",
     "output_type": "stream",
     "text": [
      "0 1 0.0 1.0\n",
      "0 2 0.0 1.0\n",
      "0 3 0.0 2.0\n",
      "0 4 0.0 1.0\n",
      "0 5 0.0 2.0\n",
      "0 6 0.0 2.0\n",
      "0 7 0.0 3.0\n",
      "0 8 0.0 1.0\n",
      "0 9 0.0 2.0\n",
      "0 10 0.0 2.0\n",
      "0 11 0.0 3.0\n",
      "0 12 0.0 2.0\n",
      "0 13 0.0 3.0\n",
      "0 14 0.0 3.0\n",
      "0 15 0.0 4.0\n",
      "0 16 0.0 1.0\n",
      "0 17 0.0 2.0\n",
      "0 18 0.0 2.0\n",
      "0 19 0.0 3.0\n",
      "0 20 0.0 2.0\n",
      "0 21 0.0 3.0\n",
      "0 22 0.0 3.0\n",
      "0 23 0.0 4.0\n",
      "0 24 0.0 2.0\n",
      "0 25 0.0 3.0\n",
      "0 26 0.0 3.0\n",
      "0 27 0.0 4.0\n",
      "0 28 0.0 3.0\n",
      "0 29 0.0 4.0\n",
      "0 30 0.0 4.0\n",
      "0 31 0.0 5.0\n",
      "1 3 1.0 2.0\n",
      "1 5 1.0 2.0\n",
      "1 6 1.0 2.0\n",
      "1 7 1.0 3.0\n",
      "1 9 1.0 2.0\n",
      "1 10 1.0 2.0\n",
      "1 11 1.0 3.0\n",
      "1 12 1.0 2.0\n",
      "1 13 1.0 3.0\n",
      "1 14 1.0 3.0\n",
      "1 15 1.0 4.0\n",
      "1 17 1.0 2.0\n",
      "1 18 1.0 2.0\n",
      "1 19 1.0 3.0\n",
      "1 20 1.0 2.0\n",
      "1 21 1.0 3.0\n",
      "1 22 1.0 3.0\n",
      "1 23 1.0 4.0\n",
      "1 24 1.0 2.0\n",
      "1 25 1.0 3.0\n",
      "1 26 1.0 3.0\n",
      "1 27 1.0 4.0\n",
      "1 28 1.0 3.0\n",
      "1 29 1.0 4.0\n",
      "1 30 1.0 4.0\n",
      "1 31 1.0 5.0\n",
      "2 3 1.0 2.0\n",
      "2 5 1.0 2.0\n",
      "2 6 1.0 2.0\n",
      "2 7 1.0 3.0\n",
      "2 9 1.0 2.0\n",
      "2 10 1.0 2.0\n",
      "2 11 1.0 3.0\n",
      "2 12 1.0 2.0\n",
      "2 13 1.0 3.0\n",
      "2 14 1.0 3.0\n",
      "2 15 1.0 4.0\n",
      "2 17 1.0 2.0\n",
      "2 18 1.0 2.0\n",
      "2 19 1.0 3.0\n",
      "2 20 1.0 2.0\n",
      "2 21 1.0 3.0\n",
      "2 22 1.0 3.0\n",
      "2 23 1.0 4.0\n",
      "2 24 1.0 2.0\n",
      "2 25 1.0 3.0\n",
      "2 26 1.0 3.0\n",
      "2 27 1.0 4.0\n",
      "2 28 1.0 3.0\n",
      "2 29 1.0 4.0\n",
      "2 30 1.0 4.0\n",
      "2 31 1.0 5.0\n",
      "3 4 2.0 1.0\n",
      "3 7 2.0 3.0\n",
      "3 8 2.0 1.0\n",
      "3 11 2.0 3.0\n",
      "3 13 2.0 3.0\n",
      "3 14 2.0 3.0\n",
      "3 15 2.0 4.0\n",
      "3 16 2.0 1.0\n",
      "3 19 2.0 3.0\n",
      "3 21 2.0 3.0\n",
      "3 22 2.0 3.0\n",
      "3 23 2.0 4.0\n",
      "3 25 2.0 3.0\n",
      "3 26 2.0 3.0\n",
      "3 27 2.0 4.0\n",
      "3 28 2.0 3.0\n",
      "3 29 2.0 4.0\n",
      "3 30 2.0 4.0\n",
      "3 31 2.0 5.0\n",
      "4 5 1.0 2.0\n",
      "4 6 1.0 2.0\n",
      "4 7 1.0 3.0\n",
      "4 9 1.0 2.0\n",
      "4 10 1.0 2.0\n",
      "4 11 1.0 3.0\n",
      "4 12 1.0 2.0\n",
      "4 13 1.0 3.0\n",
      "4 14 1.0 3.0\n",
      "4 15 1.0 4.0\n",
      "4 17 1.0 2.0\n",
      "4 18 1.0 2.0\n",
      "4 19 1.0 3.0\n",
      "4 20 1.0 2.0\n",
      "4 21 1.0 3.0\n",
      "4 22 1.0 3.0\n",
      "4 23 1.0 4.0\n",
      "4 24 1.0 2.0\n",
      "4 25 1.0 3.0\n",
      "4 26 1.0 3.0\n",
      "4 27 1.0 4.0\n",
      "4 28 1.0 3.0\n",
      "4 29 1.0 4.0\n",
      "4 30 1.0 4.0\n",
      "4 31 1.0 5.0\n",
      "5 7 2.0 3.0\n",
      "5 8 2.0 1.0\n",
      "5 11 2.0 3.0\n",
      "5 13 2.0 3.0\n",
      "5 14 2.0 3.0\n",
      "5 15 2.0 4.0\n",
      "5 16 2.0 1.0\n",
      "5 19 2.0 3.0\n",
      "5 21 2.0 3.0\n",
      "5 22 2.0 3.0\n",
      "5 23 2.0 4.0\n",
      "5 25 2.0 3.0\n",
      "5 26 2.0 3.0\n",
      "5 27 2.0 4.0\n",
      "5 28 2.0 3.0\n",
      "5 29 2.0 4.0\n",
      "5 30 2.0 4.0\n",
      "5 31 2.0 5.0\n",
      "6 7 2.0 3.0\n",
      "6 8 2.0 1.0\n",
      "6 11 2.0 3.0\n",
      "6 13 2.0 3.0\n",
      "6 14 2.0 3.0\n",
      "6 15 2.0 4.0\n",
      "6 16 2.0 1.0\n",
      "6 19 2.0 3.0\n",
      "6 21 2.0 3.0\n",
      "6 22 2.0 3.0\n",
      "6 23 2.0 4.0\n",
      "6 25 2.0 3.0\n",
      "6 26 2.0 3.0\n",
      "6 27 2.0 4.0\n",
      "6 28 2.0 3.0\n",
      "6 29 2.0 4.0\n",
      "6 30 2.0 4.0\n",
      "6 31 2.0 5.0\n",
      "7 8 3.0 1.0\n",
      "7 9 3.0 2.0\n",
      "7 10 3.0 2.0\n",
      "7 12 3.0 2.0\n",
      "7 15 3.0 4.0\n",
      "7 16 3.0 1.0\n",
      "7 17 3.0 2.0\n",
      "7 18 3.0 2.0\n",
      "7 20 3.0 2.0\n",
      "7 23 3.0 4.0\n",
      "7 24 3.0 2.0\n",
      "7 27 3.0 4.0\n",
      "7 29 3.0 4.0\n",
      "7 30 3.0 4.0\n",
      "7 31 3.0 5.0\n",
      "8 9 1.0 2.0\n",
      "8 10 1.0 2.0\n",
      "8 11 1.0 3.0\n",
      "8 12 1.0 2.0\n",
      "8 13 1.0 3.0\n",
      "8 14 1.0 3.0\n",
      "8 15 1.0 4.0\n",
      "8 17 1.0 2.0\n",
      "8 18 1.0 2.0\n",
      "8 19 1.0 3.0\n",
      "8 20 1.0 2.0\n",
      "8 21 1.0 3.0\n",
      "8 22 1.0 3.0\n",
      "8 23 1.0 4.0\n",
      "8 24 1.0 2.0\n",
      "8 25 1.0 3.0\n",
      "8 26 1.0 3.0\n",
      "8 27 1.0 4.0\n",
      "8 28 1.0 3.0\n",
      "8 29 1.0 4.0\n",
      "8 30 1.0 4.0\n",
      "8 31 1.0 5.0\n",
      "9 11 2.0 3.0\n",
      "9 13 2.0 3.0\n",
      "9 14 2.0 3.0\n",
      "9 15 2.0 4.0\n",
      "9 16 2.0 1.0\n",
      "9 19 2.0 3.0\n",
      "9 21 2.0 3.0\n",
      "9 22 2.0 3.0\n",
      "9 23 2.0 4.0\n",
      "9 25 2.0 3.0\n",
      "9 26 2.0 3.0\n",
      "9 27 2.0 4.0\n",
      "9 28 2.0 3.0\n",
      "9 29 2.0 4.0\n",
      "9 30 2.0 4.0\n",
      "9 31 2.0 5.0\n",
      "10 11 2.0 3.0\n",
      "10 13 2.0 3.0\n",
      "10 14 2.0 3.0\n",
      "10 15 2.0 4.0\n",
      "10 16 2.0 1.0\n",
      "10 19 2.0 3.0\n",
      "10 21 2.0 3.0\n",
      "10 22 2.0 3.0\n",
      "10 23 2.0 4.0\n",
      "10 25 2.0 3.0\n",
      "10 26 2.0 3.0\n",
      "10 27 2.0 4.0\n",
      "10 28 2.0 3.0\n",
      "10 29 2.0 4.0\n",
      "10 30 2.0 4.0\n",
      "10 31 2.0 5.0\n",
      "11 12 3.0 2.0\n",
      "11 15 3.0 4.0\n",
      "11 16 3.0 1.0\n",
      "11 17 3.0 2.0\n",
      "11 18 3.0 2.0\n",
      "11 20 3.0 2.0\n",
      "11 23 3.0 4.0\n",
      "11 24 3.0 2.0\n",
      "11 27 3.0 4.0\n",
      "11 29 3.0 4.0\n",
      "11 30 3.0 4.0\n",
      "11 31 3.0 5.0\n",
      "12 13 2.0 3.0\n",
      "12 14 2.0 3.0\n",
      "12 15 2.0 4.0\n",
      "12 16 2.0 1.0\n",
      "12 19 2.0 3.0\n",
      "12 21 2.0 3.0\n",
      "12 22 2.0 3.0\n",
      "12 23 2.0 4.0\n",
      "12 25 2.0 3.0\n",
      "12 26 2.0 3.0\n",
      "12 27 2.0 4.0\n",
      "12 28 2.0 3.0\n",
      "12 29 2.0 4.0\n",
      "12 30 2.0 4.0\n",
      "12 31 2.0 5.0\n",
      "13 15 3.0 4.0\n",
      "13 16 3.0 1.0\n",
      "13 17 3.0 2.0\n",
      "13 18 3.0 2.0\n",
      "13 20 3.0 2.0\n",
      "13 23 3.0 4.0\n",
      "13 24 3.0 2.0\n",
      "13 27 3.0 4.0\n",
      "13 29 3.0 4.0\n",
      "13 30 3.0 4.0\n",
      "13 31 3.0 5.0\n",
      "14 15 3.0 4.0\n",
      "14 16 3.0 1.0\n",
      "14 17 3.0 2.0\n",
      "14 18 3.0 2.0\n",
      "14 20 3.0 2.0\n",
      "14 23 3.0 4.0\n",
      "14 24 3.0 2.0\n",
      "14 27 3.0 4.0\n",
      "14 29 3.0 4.0\n",
      "14 30 3.0 4.0\n",
      "14 31 3.0 5.0\n",
      "15 16 4.0 1.0\n",
      "15 17 4.0 2.0\n",
      "15 18 4.0 2.0\n",
      "15 19 4.0 3.0\n",
      "15 20 4.0 2.0\n",
      "15 21 4.0 3.0\n",
      "15 22 4.0 3.0\n",
      "15 24 4.0 2.0\n",
      "15 25 4.0 3.0\n",
      "15 26 4.0 3.0\n",
      "15 28 4.0 3.0\n",
      "15 31 4.0 5.0\n",
      "16 17 1.0 2.0\n",
      "16 18 1.0 2.0\n",
      "16 19 1.0 3.0\n",
      "16 20 1.0 2.0\n",
      "16 21 1.0 3.0\n",
      "16 22 1.0 3.0\n",
      "16 23 1.0 4.0\n",
      "16 24 1.0 2.0\n",
      "16 25 1.0 3.0\n",
      "16 26 1.0 3.0\n",
      "16 27 1.0 4.0\n",
      "16 28 1.0 3.0\n",
      "16 29 1.0 4.0\n",
      "16 30 1.0 4.0\n",
      "16 31 1.0 5.0\n",
      "17 19 2.0 3.0\n",
      "17 21 2.0 3.0\n",
      "17 22 2.0 3.0\n",
      "17 23 2.0 4.0\n",
      "17 25 2.0 3.0\n",
      "17 26 2.0 3.0\n",
      "17 27 2.0 4.0\n",
      "17 28 2.0 3.0\n",
      "17 29 2.0 4.0\n",
      "17 30 2.0 4.0\n",
      "17 31 2.0 5.0\n",
      "18 19 2.0 3.0\n",
      "18 21 2.0 3.0\n",
      "18 22 2.0 3.0\n",
      "18 23 2.0 4.0\n",
      "18 25 2.0 3.0\n",
      "18 26 2.0 3.0\n",
      "18 27 2.0 4.0\n",
      "18 28 2.0 3.0\n",
      "18 29 2.0 4.0\n",
      "18 30 2.0 4.0\n",
      "18 31 2.0 5.0\n",
      "19 20 3.0 2.0\n",
      "19 23 3.0 4.0\n",
      "19 24 3.0 2.0\n",
      "19 27 3.0 4.0\n",
      "19 29 3.0 4.0\n",
      "19 30 3.0 4.0\n",
      "19 31 3.0 5.0\n",
      "20 21 2.0 3.0\n",
      "20 22 2.0 3.0\n",
      "20 23 2.0 4.0\n",
      "20 25 2.0 3.0\n",
      "20 26 2.0 3.0\n",
      "20 27 2.0 4.0\n",
      "20 28 2.0 3.0\n",
      "20 29 2.0 4.0\n",
      "20 30 2.0 4.0\n",
      "20 31 2.0 5.0\n",
      "21 23 3.0 4.0\n",
      "21 24 3.0 2.0\n",
      "21 27 3.0 4.0\n",
      "21 29 3.0 4.0\n",
      "21 30 3.0 4.0\n",
      "21 31 3.0 5.0\n",
      "22 23 3.0 4.0\n",
      "22 24 3.0 2.0\n",
      "22 27 3.0 4.0\n",
      "22 29 3.0 4.0\n",
      "22 30 3.0 4.0\n",
      "22 31 3.0 5.0\n",
      "23 24 4.0 2.0\n",
      "23 25 4.0 3.0\n",
      "23 26 4.0 3.0\n",
      "23 28 4.0 3.0\n",
      "23 31 4.0 5.0\n",
      "24 25 2.0 3.0\n",
      "24 26 2.0 3.0\n",
      "24 27 2.0 4.0\n",
      "24 28 2.0 3.0\n",
      "24 29 2.0 4.0\n",
      "24 30 2.0 4.0\n",
      "24 31 2.0 5.0\n",
      "25 27 3.0 4.0\n",
      "25 29 3.0 4.0\n",
      "25 30 3.0 4.0\n",
      "25 31 3.0 5.0\n",
      "26 27 3.0 4.0\n",
      "26 29 3.0 4.0\n",
      "26 30 3.0 4.0\n",
      "26 31 3.0 5.0\n",
      "27 28 4.0 3.0\n",
      "27 31 4.0 5.0\n",
      "28 29 3.0 4.0\n",
      "28 30 3.0 4.0\n",
      "28 31 3.0 5.0\n",
      "29 31 4.0 5.0\n",
      "30 31 4.0 5.0\n"
     ]
    }
   ],
   "source": [
    "from itertools import combinations \n",
    "\n",
    "comb = list(combinations(range(len(total_active)), 2))\n",
    "comb_diff_number = []\n",
    "for i,j in comb:\n",
    "    if total_active[i] != total_active[j]:\n",
    "        comb_diff_number.append((i,j,total_active[i],total_active[j]))\n",
    "\n",
    "# comb_diff_number\n",
    "for i,j,m,n in comb_diff_number:\n",
    "    PEDs.append(np.sqrt(np.sum((chosen_readings[:,i]-chosen_readings[:,j])**2)))\n",
    "\n",
    "\n",
    "# cnt = 1\n",
    "# # Print the obtained combinations \n",
    "# for i in list(comb): \n",
    "#     i\n",
    "#     cnt = cnt + 1 \n",
    "# cnt\n",
    "\n",
    "\n",
    "\n"
   ]
  },
  {
   "cell_type": "code",
   "execution_count": 261,
   "metadata": {},
   "outputs": [
    {
     "name": "stdout",
     "output_type": "stream",
     "text": [
      "5\n",
      "12\n",
      "15\n",
      "9\n"
     ]
    }
   ],
   "source": [
    "a = [[1,2,3,4],[5,6,7,8],[9,10,11,12],[13,14,15,16],[17,18,19,20],[21,22,23,24]]\n",
    "tuples_list = [(1,0), (2,3), (3,2), (2,0)]\n",
    "for x,y in tuples_list:\n",
    "    print(a[x][y])"
   ]
  },
  {
   "cell_type": "code",
   "execution_count": 185,
   "metadata": {},
   "outputs": [
    {
     "data": {
      "text/plain": [
       "array([[  0.,   0.,   0.],\n",
       "       [  0.,  50.,   0.],\n",
       "       [  0., 100.,   0.],\n",
       "       [  0., 150.,   0.],\n",
       "       [  0., 200.,   0.],\n",
       "       [  0., 250.,   0.],\n",
       "       [  0., 300.,   0.],\n",
       "       [  0., 350.,   0.],\n",
       "       [  0., 400.,   0.],\n",
       "       [  0., 450.,   0.]])"
      ]
     },
     "execution_count": 185,
     "metadata": {},
     "output_type": "execute_result"
    },
    {
     "data": {
      "text/plain": [
       "[0.47, 0.51, 0.38, 0.9, 0.19]"
      ]
     },
     "execution_count": 185,
     "metadata": {},
     "output_type": "execute_result"
    },
    {
     "data": {
      "text/plain": [
       "5"
      ]
     },
     "execution_count": 185,
     "metadata": {},
     "output_type": "execute_result"
    },
    {
     "data": {
      "text/plain": [
       "(10, 32)"
      ]
     },
     "execution_count": 185,
     "metadata": {},
     "output_type": "execute_result"
    }
   ],
   "source": [
    "# sensorArray = np.zeros((10,3))\n",
    "# sensorArray[:,1]=np.arange(0,500,50)\n",
    "# sensorArray\n",
    "\n",
    "# Q_source = [0.47, 0.51, 0.38, 0.9, 0.19]\n",
    "numOfSensors = np.size(sensorArray,0)\n",
    "numOfSources = np.size(Q_source)\n",
    "# Run all 32 options of working/not working stacks (for 5 sources) and calculate readings\n",
    "# ((including the change in readings from zeros))\n",
    "totalField = np.zeros((numOfSensors,2**numOfSources))\n",
    "total_active = np.zeros((2**numOfSources,))\n",
    "\n",
    "No_of_Bits = np.size(Q_source)\n",
    "a = []\n",
    "for bits in np.arange(0,2**No_of_Bits):\n",
    "    a.append(np.binary_repr(bits,width=No_of_Bits))\n",
    "total_s = [] \n",
    "for row in a:\n",
    "    s = []\n",
    "    for binary in row:\n",
    "        s.append(float(binary))\n",
    "    total_s.append(s)\n",
    "\n",
    "for scenario, active in enumerate(total_s):\n",
    "    sensorArray,_,_ = calculateDisp(Q_source*active, sensorArray, WD, WS, ASC); \n",
    "    total_active[scenario] = np.sum(active);\n",
    "    totalField[:,scenario] = sensorArray[:,3] \n",
    "    \n",
    "\n",
    "    "
   ]
  },
  {
   "cell_type": "code",
   "execution_count": null,
   "metadata": {},
   "outputs": [],
   "source": []
  },
  {
   "cell_type": "code",
   "execution_count": 234,
   "metadata": {},
   "outputs": [],
   "source": [
    "No_of_Bits = 5\n",
    "a = []\n",
    "for bits in np.arange(0,2**No_of_Bits):\n",
    "    a.append(np.binary_repr(bits,width=No_of_Bits))\n",
    "total_s = [] \n",
    "for row in a:\n",
    "    s = []\n",
    "    for binary in row:\n",
    "        s.append(float(binary))\n",
    "    total_s.append(s)"
   ]
  },
  {
   "cell_type": "code",
   "execution_count": 241,
   "metadata": {},
   "outputs": [
    {
     "data": {
      "text/plain": [
       "array([0., 1., 1., 2., 1., 2., 2., 3., 1., 2., 2., 3., 2., 3., 3., 4., 1.,\n",
       "       2., 2., 3., 2., 3., 3., 4., 2., 3., 3., 4., 3., 4., 4., 5.])"
      ]
     },
     "execution_count": 241,
     "metadata": {},
     "output_type": "execute_result"
    }
   ],
   "source": [
    "np.sum(total_s,axis=1)"
   ]
  },
  {
   "cell_type": "code",
   "execution_count": 280,
   "metadata": {},
   "outputs": [],
   "source": [
    "# configurations to load\n",
    "conf = { \n",
    "    # general\n",
    "    'GRID_SIZE': 1000,\n",
    "    'GRID_SCALE': 1,\n",
    "    'EFFECTIVE_HEIGHT': 10,\n",
    "    'NOISE_RANGE': 1e-16,\n",
    "\n",
    "    # meteorological properties\n",
    "    'WIND_SPEED': [],\n",
    "    'WIND_DIRECTION': [],\n",
    "    'STABILITY_PARAMETER_a': [],\n",
    "    'STABILITY_PARAMETER_c': [],\n",
    "    'STABILITY_PARAMETER_d': [],\n",
    "    'STABILITY_PARAMETER_f': [],\n",
    "\n",
    "    # source locations (should be configured according to number of sources)\n",
    "    'SOURCE_1': [],\n",
    "    'SOURCE_2': [],\n",
    "    'SOURCE_3': [],\n",
    "    'SOURCE_4': [],\n",
    "    'SOURCE_5': [],\n",
    "\n",
    "    # leak rates[kg/sec]\n",
    "    'Q_SOURCE_1': [],\n",
    "    'Q_SOURCE_2': [],\n",
    "    'Q_SOURCE_3': [],\n",
    "    'Q_SOURCE_4': [],\n",
    "    'Q_SOURCE_5': []\n",
    "}"
   ]
  },
  {
   "cell_type": "code",
   "execution_count": 278,
   "metadata": {},
   "outputs": [],
   "source": [
    "class Config(object):\n",
    "    def __init__(self):\n",
    "        self._config = conf # set it to conf\n",
    "\n",
    "    def get_property(self, property_name):\n",
    "        if property_name not in self._config.keys(): # we don't want KeyError\n",
    "            return None  # just return None if not found\n",
    "        return self._config[property_name]\n",
    "\n",
    "    def set_property(self, property_name, value):\n",
    "        self._config[property_name] = value\n",
    "    "
   ]
  },
  {
   "cell_type": "code",
   "execution_count": null,
   "metadata": {},
   "outputs": [],
   "source": [
    "class API:\n",
    "    \n",
    "    # properties\n",
    "    configFile = Config()\n",
    "    \n",
    "    # methods\n",
    "    def distance(*arg, x1_cor, y1_cor, x2_cor, y2_cor):\n",
    "        d = np.sqrt((x1_cor-x2_cor)**2 + (y1_cor-y2_cor)**2)   \n",
    "        return d\n",
    "    \n",
    "    def getCurveByWindDirection(*arg, windDirection):\n",
    "        '''the function returns the slope of the vector from wind direction [degrees].\n",
    "        alpha is the angle between the vector of the wind and the positive direction of X axis'''\n",
    "        omega = windDirection\n",
    "        alpha = 270 - omega \n",
    "        # convert to radians\n",
    "        alpha = np.deg2rad(alpha)\n",
    "        m = np.tan(alpha)      \n",
    "        return m\n",
    "    \n",
    "        # return the equation of a line by the slope and known point\n",
    "        # the line is represented by m(the slope) and n (cut-off point with Y axis)\n",
    "        # the line equation is : y-y1 = m*(x-x1) =>\n",
    "        # y = m*(x-x1) + y1 =>\n",
    "        # n = -x1*m + y1\n",
    "    def getLineEquation(*arg, x1_cor, y1_cor, m):\n",
    "        '''the function returns the equation of a line by the slope=m and known point (x1,y1).\n",
    "        n is the intercept with Y axis. the line equation is: y-y1 = m*(x-x1) => y = m*(x-x1)+y1, \n",
    "        and when x=0 we get n:'''\n",
    "        n = y1_cor-m*x1_cor           \n",
    "        return m, n\n",
    "\n",
    "#       get distance between line and point. the line represented by m\n",
    "#       and n, the point is x and y\n",
    "#       the equation is: d = (abs (-mx0 + y0 - n))/(sqrt(m^2 +1))\n",
    "\n",
    "    def getDistanceFromPointToLine(*arg, m, n, x0, y0):\n",
    "        '''get distance between a line and a point, the line is represented by m (slope) and n (equation),\n",
    "        the point is x and y. the equation is d'''\n",
    "        d = (np.abs(-m*x0+y0-n))/(np.sqrt(m**2+1)) # 1 is the coefficient of y in the line equation\n",
    "        return d\n",
    "    \n",
    "    def calculateSensorCon(obj, x_sen, y_sen, x_source, y_source, sourceCon):\n",
    "        '''calculate the sensor concentration level based on given emission from source'''\n",
    "        Q = sourceCon\n",
    "        U = obj.configFile.get_property('WIND_SPEED')\n",
    "        wind_direction = obj.configFile.get_property('WIND_DIRECTION')\n",
    "        # effective stack height, aribtrrary \n",
    "        He = obj.configFile.get_property('EFFECTIVE_HEIGHT')\n",
    "        grid_scale = obj.configFile.get_property('GRID_SCALE')\n",
    "        \n",
    "        # first: calculate the distance between the source and sensor\n",
    "        # deal with all winds directions   \n",
    "        if(np.mod(180-wind_direction-np.rad2deg(np.arctan2(y_sen - y_source, x_sen - x_source)), 360) < 180):         \n",
    "            return 0\n",
    "                \n",
    "        # X distance: In meters\n",
    "        x_distance_meters  = obj.distance(x_sen, y_sen, x_source, y_source)*grid_scale\n",
    "        x_distance_kilometers = (x_distance_meters/1000)\n",
    "\n",
    "        # the slope of the wind direction refere to X axis\n",
    "        mWD = obj.getCurveByWindDirection(wind_direction)\n",
    "\n",
    "        # get the line equation of the wind, based on two points (the source) and the slope\n",
    "        [mWD,nWD] =  obj.getLineEquation(x_source, y_source, mWD)\n",
    "\n",
    "        #calculate the distance between the sensor and the line\n",
    "        #equation of the wind direction\n",
    "        y_distance = (obj.getDistanceFromPointToLine(mWD, nWD, x_sen, y_sen))\n",
    "\n",
    "        # in meters\n",
    "        y_distance =  y_distance*grid_scale\n",
    "                                \n",
    "        # calculate sigma y and sigma z                \n",
    "        a = obj.configFile.get_property('STABILITY_PARAMETER_a')\n",
    "        c = obj.configFile.get_property('STABILITY_PARAMETER_c')\n",
    "        d = obj.configFile.get_property('STABILITY_PARAMETER_d')\n",
    "        f = obj.configFile.get_property('STABILITY_PARAMETER_f')\n",
    "                  \n",
    "        sigma_y = a*(x_distance_kilometers**0.894)              \n",
    "        sigma_z = c*(x_distance_kilometers**d) + f                \n",
    "                \n",
    "        C = (Q/(U*sigma_y*sigma_z*np.pi))*(np.exp(-(y_distance**2)/(2*(sigma_y**2)))*np.exp(-(He**2)/(2*(sigma_z**2))))\n",
    "        return C\n",
    "    \n",
    "    def addGausienNoise(obj, oldSignal):\n",
    "        # noise level\n",
    "        noiseRange = obj.configFile.get_property('NOISE_RANGE')\n",
    "        noiseLevelA = -(noiseRange)\n",
    "        noiseLevelB = noiseRange\n",
    "        noise  = noiseLevelA + (noiseLevelB - noiseLevelA)*rand\n",
    "\n",
    "        newSignal = oldSignal + noise*oldSignal\n",
    "\n",
    "        return newSignal\n",
    "         "
   ]
  },
  {
   "cell_type": "code",
   "execution_count": null,
   "metadata": {},
   "outputs": [],
   "source": [
    "def calculateDisp(Q_source,sensorArray, WD, WS, SC): # in matlab called idit_CD1\n",
    "    \n",
    "    svAPI = API()\n",
    "    svAPI.configFile.set_property('WIND_DIRECTION', WD)\n",
    "    svAPI.configFile.set_property('WIND_SPEED', WS)\n",
    "    \n",
    "    # stability parameters according to Martin 1976\n",
    "    if SC == 1:\n",
    "        svAPI.configFile.set_property('STABILITY_PARAMETER_a',213)\n",
    "        svAPI.configFile.set_property('STABILITY_PARAMETER_c',440.8)\n",
    "        svAPI.configFile.set_property('STABILITY_PARAMETER_d',1.941)\n",
    "        svAPI.configFile.set_property('STABILITY_PARAMETER_f',9.27)\n",
    "\n",
    "    if SC == 2:\n",
    "        svAPI.configFile.set_property('STABILITY_PARAMETER_a',156)\n",
    "        svAPI.configFile.set_property('STABILITY_PARAMETER_c',106.6)\n",
    "        svAPI.configFile.set_property('STABILITY_PARAMETER_d',1.149)\n",
    "        svAPI.configFile.set_property('STABILITY_PARAMETER_f',3.3)\n",
    "\n",
    "    if SC == 3:\n",
    "        svAPI.configFile.set_property('STABILITY_PARAMETER_a',104)\n",
    "        svAPI.configFile.set_property('STABILITY_PARAMETER_c',61)\n",
    "        svAPI.configFile.set_property('STABILITY_PARAMETER_d',0.911)\n",
    "        svAPI.configFile.set_property('STABILITY_PARAMETER_f',0)\n",
    "\n",
    "    if SC == 4:\n",
    "        svAPI.configFile.set_property('STABILITY_PARAMETER_a',68)\n",
    "        svAPI.configFile.set_property('STABILITY_PARAMETER_c',33.2)\n",
    "        svAPI.configFile.set_property('STABILITY_PARAMETER_d',0.725)\n",
    "        svAPI.configFile.set_property('STABILITY_PARAMETER_f',-1.7)\n",
    "\n",
    "    if SC == 5:\n",
    "        svAPI.configFile.set_property('STABILITY_PARAMETER_a',50.5)\n",
    "        svAPI.configFile.set_property('STABILITY_PARAMETER_c',22.8)\n",
    "        svAPI.configFile.set_property('STABILITY_PARAMETER_d',0.678)\n",
    "        svAPI.configFile.set_property('STABILITY_PARAMETER_f',-1.3)\n",
    "\n",
    "    if SC == 6:\n",
    "        svAPI.configFile.set_property('STABILITY_PARAMETER_a',34)\n",
    "        svAPI.configFile.set_property('STABILITY_PARAMETER_c',14.35)\n",
    "        svAPI.configFile.set_property('STABILITY_PARAMETER_d',0.740)\n",
    "        svAPI.configFile.set_property('STABILITY_PARAMETER_f',-0.035) \n",
    "    \n",
    "    configFile = Config()\n",
    "    sizeOfStudyArea = configFile.get_property('GRID_SIZE')\n",
    "    \n",
    "    # Source locations (!!! maybe try to enable flexibility in number of sources and locations!!!)\n",
    "    x_source1 = configFile.get_property('SOURCE_1')[0]\n",
    "    y_source1 = configFile.get_property('SOURCE_1')[1]\n",
    "\n",
    "    x_source2 = configFile.get_property('SOURCE_2')[0]\n",
    "    y_source2 = configFile.get_property('SOURCE_2')[1]\n",
    "\n",
    "    x_source3 = configFile.get_property('SOURCE_3')[0]\n",
    "    y_source3 = configFile.get_property('SOURCE_3')[1]\n",
    "\n",
    "    x_source4 = configFile.get_property('SOURCE_4')[0]\n",
    "    y_source4 = configFile.get_property('SOURCE_4')[1]\n",
    "\n",
    "    x_source5 = configFile.get_property('SOURCE_5')[0]\n",
    "    y_source5 = configFile.get_property('SOURCE_5')[1]\n",
    "    \n",
    "    x_source = np.array[x_source1,x_source2,x_source3,x_source4,x_source5]\n",
    "    y_source = np.array[y_source1,y_source2,y_source3,y_source4,y_source5]\n",
    "        \n",
    "    sourceArray = np.zeros((np.size(Q_source),3))\n",
    "    for i in range(np.size(Q_source)):\n",
    "        sourceArray[i,1] = x_source[i] # should change the above code !!!!\n",
    "        sourceArray[i,2] = y_source[i]\n",
    "        sourceArray[i,3] = Q_source[i]\n",
    "    \n",
    "    for i in range(np.size(sensorArray,0)):\n",
    "        totalAmbientDataOfSensor = 0\n",
    "        for j in range(np.size(sourceArray,0)):\n",
    "            ambientDataFromOneSource = svAPI.calculateSensorCon(sensorArray[i,1], sensorArray[i,2], sourceArray[j,1], sourceArray[j,2], sourceArray[j,3])\n",
    "            ambientDataFromOneSource = svAPI.addGausienNoise(ambientDataFromOneSource)\n",
    "            totalAmbientDataOfSensor  = totalAmbientDataOfSensor + ambientDataFromOneSource\n",
    "        sensorArray[i,3] = totalAmbientDataOfSensor\n",
    "  \n",
    "    return sensorArray,sourceArray,sizeOfStudyArea\n",
    "    \n",
    "    "
   ]
  },
  {
   "cell_type": "code",
   "execution_count": null,
   "metadata": {},
   "outputs": [],
   "source": [
    "def calcSensorsReadings(Q_source,sensorArray,WD,WS,ASC):\n",
    "    '''The function calculates the readings in places specified in sensorArray, \n",
    "    according to Q_source, WD, WS and ASC, FOR ALL POSSIBLE COMBINATIONS OF ACTIVE/INACTIVE Q.\n",
    "    totalField is nXm matrix with n=number of sensors and m=all scenarios (2^(number of sources))\n",
    "    total_s is all possible scenarios (0 = source inactive, 1=source active)''' \n",
    "\n",
    "    numOfSensors = np.size(sensorArray,0)\n",
    "    numOfSources = np.size(Q_source)\n",
    "    # Run all 32 options of working/not working stacks (for 5 sources) and calculate readings\n",
    "    # ((including the change in readings from zeros))\n",
    "    totalField = np.zeros((numOfSensors,2**numOfSources))\n",
    "\n",
    "    No_of_Bits = np.size(Q_source)\n",
    "    a = []\n",
    "    for bits in np.arange(0,2**No_of_Bits):\n",
    "        a.append(np.binary_repr(bits,width=No_of_Bits))\n",
    "    total_s = [] \n",
    "    for row in a:\n",
    "        s = []\n",
    "        for binary in row:\n",
    "            s.append(float(binary))\n",
    "        total_s.append(s)\n",
    "\n",
    "    for scenario, active in enumerate(total_s):\n",
    "        sensorArray,_,_ = calculateDisp(Q_source*active, sensorArray, WD, WS, ASC)\n",
    "        total_s[scenario] = np.sum(active)\n",
    "        totalField[:,scenario] = sensorArray[:,2]\n",
    "#     total_cr = totalField\n",
    "    return totalField, total_s\n",
    "    \n",
    "def calcSensorsPED(totalField,total_s,sensorIdx,thr,dyR):\n",
    "    '''WF???not sure what to do with it..., The function calculates all PEDs only for situations of different number of active sources, \n",
    "    given an array of sensor locations (location index(row) of sensorArray) and an array of sensors sensitivity \n",
    "    (thr) and dynamic range (accordingly). The function should be used during the optimization process.\n",
    "    PEDs is nX1 matrix where n=number of situations with different number of active sources.\n",
    "    Scenario pairs specifies each pair of scenarios corresponding to the PED row in PEDs and the \n",
    "    number of active/inactive sources in those scenarios (3,4) and number of scenario combination(1,2)''' \n",
    "    \n",
    "    # choose the relevant rows(=sensors) according to sensorIdx\n",
    "    chosen_readings = totalField[sensorIdx,:]\n",
    "    numOfSensors = np.size(sensorIdx)\n",
    "    numOfSources = np.size(total_s,1)\n",
    "    total_active = np.sum(total_s,axis=1)\n",
    "    \n",
    "    # (comment these lines if thr and dyR not applied)\n",
    "    # for each row (sensor), apply thr and dyR\n",
    "    for i in range(numOfSensors):\n",
    "        chosen_readings[i,chosen_readings[i,:]<thr[i]] = 0\n",
    "        chosen_readings[i,chosen_readings[i,:]>thr[i]*dyR[i]] = thr[i]*dyR[i]\n",
    "\n",
    "    # calculate PEDs for the chosen sensors\n",
    "    PEDs = []\n",
    "    comb = list(combinations(range(len(total_active)), 2))\n",
    "    scenario_pairs = []\n",
    "    for i,j in comb:\n",
    "        if total_active[i] != total_active[j]:\n",
    "            scenario_pairs.append((i,j,total_active[i],total_active[j]))\n",
    "    for i,j,m,n in scenario_pairs:\n",
    "        PEDs.append(np.sqrt(np.sum((chosen_readings[:,i]-chosen_readings[:,j])**2)))   \n",
    "           \n",
    "    return PEDs, scenario_pairs\n"
   ]
  },
  {
   "cell_type": "code",
   "execution_count": 630,
   "metadata": {},
   "outputs": [],
   "source": [
    "def initializeSimulation(numOfSources, emissionRates, distanceBetweenSensors, distanceFromSource):   \n",
    "    '''Initialize Q_source and sensorArray. sensorArray is given Nan in places to exclude\n",
    "    numOfSources = number of sources defined in the configuration file, \n",
    "    emissionRates = an array of emission rates,\n",
    "    distanceBetweenSensors = how many meters appart to place sensors, \n",
    "    distanceFromSource = radious [meters] around the source where I can't place my sensors at'''\n",
    "    \n",
    "    configFile = Config()\n",
    "    boundery = configFile.get_property('GRID_SIZE')\n",
    "    \n",
    "    # get source locations \n",
    "    sourceLocations = np.zeros((numOfSources,2)) #numpy array\n",
    "    for i in range(1,numOfSources+1): \n",
    "        sourceLocations[i-1,:] = configFile.get_property('SOURCE_'+ str(i))\n",
    "    \n",
    "    # set source emission rates\n",
    "    Q_source = np.zeros((numOfSources))\n",
    "    for i in range(1,numOfSources+1): \n",
    "        Q_source[i-1] = configFile.set_property('Q_SOURCE_'+ str(i),emissionRates[i-1])\n",
    "    \n",
    "    # place potential sensors all over the area, distanceBetweenSensors meter appart\n",
    "    [X,Y] = np.meshgrid(np.arange(0,boundery+distanceBetweenSensors,distanceBetweenSensors), np.arange(0,boundery+distanceBetweenSensors,distanceBetweenSensors))\n",
    "    \n",
    "    # exclude sensors near sources (distanceFromSource to each direction)\n",
    "    [exclude_x, exclude_y] = np.meshgrid(np.arange(-distanceFromSource,2*distanceFromSource,distanceFromSource),np.arange(-distanceFromSource,2*distanceFromSource,distanceFromSource))  \n",
    "    exclude = np.zeros((np.size(exclude_x),2))\n",
    "    exclude[:,0]=np.reshape(exclude_x,(np.size(exclude_x,0)*np.size(exclude_x,1),),order = 'F')\n",
    "    exclude[:,1]=np.reshape(exclude_y,(np.size(exclude_y,0)*np.size(exclude_y,1),),order = 'F')\n",
    "\n",
    "    sensors_to_exclude = [] #list\n",
    "    for i in range(numOfSources):\n",
    "        sensors_to_exclude.append(np.matlib.repmat(sourceLocations[i,:],np.size(exclude,0),1)+exclude)\n",
    "    # convert to numpy array\n",
    "    sensors_to_exclude = np.reshape(sensors_to_exclude,(np.size(exclude,0)*numOfSources,2))\n",
    "    \n",
    "    # all original sensors\n",
    "    NumOfSensors = np.size(X)\n",
    "    sensorArray = np.zeros((NumOfSensors,3))\n",
    "    sensorArray[:,0]=np.reshape(X,(np.size(X,0)*np.size(X,1),),order = 'F')\n",
    "    sensorArray[:,1]=np.reshape(Y,(np.size(Y,0)*np.size(Y,1),),order = 'F')\n",
    "#     original_sensor_array = sensorArray\n",
    "\n",
    "\n",
    "    # these are the sensors to exclude\n",
    "    a = [(row == sensorArray[:,0:2]) for row in sensors_to_exclude]\n",
    "    ind_to_exclude = []\n",
    "    for i in range(np.shape(a)[0]):\n",
    "        temp = a[:][i][:]\n",
    "        for idx, j in enumerate(temp):\n",
    "            if np.sum(j) == 2:\n",
    "                ind_to_exclude.append(idx)\n",
    "    \n",
    "    sensorArray[ind_to_exclude,2] = np.nan\n",
    "    \n",
    "    return Q_source, sensorArray, sensors_to_exclude\n",
    "        \n",
    "    "
   ]
  },
  {
   "cell_type": "code",
   "execution_count": 602,
   "metadata": {},
   "outputs": [
    {
     "data": {
      "text/plain": [
       "array([[   0.,    0.,    0.],\n",
       "       [   0.,   50.,    0.],\n",
       "       [   0.,  100.,    0.],\n",
       "       ...,\n",
       "       [1000.,  900.,    0.],\n",
       "       [1000.,  950.,    0.],\n",
       "       [1000., 1000.,    0.]])"
      ]
     },
     "execution_count": 602,
     "metadata": {},
     "output_type": "execute_result"
    }
   ],
   "source": [
    "# all original sensors\n",
    "NumOfSensors = np.size(X)\n",
    "sensorArray = np.zeros((NumOfSensors,3))\n",
    "sensorArray[:,0]=np.reshape(X,(np.size(X,0)*np.size(X,1),),order = 'F')\n",
    "sensorArray[:,1]=np.reshape(Y,(np.size(Y,0)*np.size(Y,1),),order = 'F')\n",
    "\n",
    "sensorArray"
   ]
  },
  {
   "cell_type": "code",
   "execution_count": 603,
   "metadata": {},
   "outputs": [],
   "source": [
    "sensors_to_exclude = [] #list\n",
    "for i in range(numOfSources):\n",
    "    sensors_to_exclude.append(np.matlib.repmat(sourceLocations[i,:],np.size(exclude,0),1)+exclude)\n",
    "# convert to numpy array\n",
    "sensors_to_exclude = np.reshape(sensors_to_exclude,(np.size(exclude,0)*numOfSources,2))\n",
    "\n",
    "# sensors_to_exclude"
   ]
  },
  {
   "cell_type": "code",
   "execution_count": 596,
   "metadata": {},
   "outputs": [],
   "source": [
    "sourceLocations = np.array([[200,300],[300,700],[650,400],[450,200],[200,500]])"
   ]
  },
  {
   "cell_type": "code",
   "execution_count": 634,
   "metadata": {},
   "outputs": [
    {
     "data": {
      "text/plain": [
       "200"
      ]
     },
     "execution_count": 634,
     "metadata": {},
     "output_type": "execute_result"
    }
   ],
   "source": [
    "sourceLocations[0,0]"
   ]
  },
  {
   "cell_type": "code",
   "execution_count": 614,
   "metadata": {},
   "outputs": [],
   "source": [
    "# a = [(row == sensors_to_exclude).any() for row in sensorArray[:,0:2]]\n",
    "a = [(row == sensorArray[:,0:2]) for row in sensors_to_exclude]"
   ]
  },
  {
   "cell_type": "code",
   "execution_count": 615,
   "metadata": {},
   "outputs": [
    {
     "data": {
      "text/plain": [
       "45"
      ]
     },
     "execution_count": 615,
     "metadata": {},
     "output_type": "execute_result"
    }
   ],
   "source": [
    "np.shape(a)[0]"
   ]
  },
  {
   "cell_type": "code",
   "execution_count": 618,
   "metadata": {},
   "outputs": [],
   "source": [
    "ind_to_exclude = []\n",
    "for i in range(np.shape(a)[0]):\n",
    "    temp = a[:][i][:]\n",
    "    for idx, j in enumerate(temp):\n",
    "        if np.sum(j) == 2:\n",
    "            ind_to_exclude.append(idx)\n",
    "                \n",
    "#         print(np.where(np.any(temp[j],axis=0)))\n",
    "#     print(np.any(temp,axis=0),i)"
   ]
  },
  {
   "cell_type": "code",
   "execution_count": 627,
   "metadata": {},
   "outputs": [
    {
     "data": {
      "text/plain": [
       "array([nan, nan, nan, nan, nan, nan, nan, nan, nan, nan, nan, nan, nan,\n",
       "       nan, nan, nan, nan, nan, nan, nan, nan, nan, nan, nan, nan, nan,\n",
       "       nan, nan, nan, nan, nan, nan, nan, nan, nan, nan, nan, nan, nan,\n",
       "       nan, nan, nan, nan, nan, nan])"
      ]
     },
     "execution_count": 627,
     "metadata": {},
     "output_type": "execute_result"
    }
   ],
   "source": [
    "sensorArray[ind_to_exclude,2] \n"
   ]
  },
  {
   "cell_type": "code",
   "execution_count": 454,
   "metadata": {},
   "outputs": [],
   "source": [
    "sensors_to_exclude = np.reshape(sensors_to_exclude,(np.size(exclude,0)*numOfSources,2))"
   ]
  },
  {
   "cell_type": "code",
   "execution_count": 463,
   "metadata": {},
   "outputs": [
    {
     "data": {
      "text/plain": [
       "(45, 2)"
      ]
     },
     "execution_count": 463,
     "metadata": {},
     "output_type": "execute_result"
    }
   ],
   "source": [
    "np.shape(np.unique(sensors_to_exclude,axis = 1))"
   ]
  },
  {
   "cell_type": "code",
   "execution_count": 476,
   "metadata": {},
   "outputs": [
    {
     "data": {
      "text/plain": [
       "array([ True,  True])"
      ]
     },
     "execution_count": 476,
     "metadata": {},
     "output_type": "execute_result"
    }
   ],
   "source": [
    "np.isin(sensorArray[68,0:2],sensors_to_exclude)"
   ]
  },
  {
   "cell_type": "code",
   "execution_count": 608,
   "metadata": {},
   "outputs": [],
   "source": [
    "idx = []\n",
    "for i, row in enumerate(sensorArray[:,0:2]):   \n",
    "    for sens_loc in sensors_to_exclude:        \n",
    "        if np.isin(row,sens_loc).all():\n",
    "            idx.append(i)\n",
    "#             print(np.isin(row,sens_loc))\n",
    "  "
   ]
  },
  {
   "cell_type": "code",
   "execution_count": 611,
   "metadata": {},
   "outputs": [
    {
     "data": {
      "text/plain": [
       "(85,)"
      ]
     },
     "execution_count": 611,
     "metadata": {},
     "output_type": "execute_result"
    }
   ],
   "source": [
    "np.shape(np.unique(idx))"
   ]
  },
  {
   "cell_type": "code",
   "execution_count": 436,
   "metadata": {},
   "outputs": [],
   "source": [
    "sensors_to_exclude = [] #list\n",
    "for i in range(numOfSources):\n",
    "    sensors_to_exclude.append(np.matlib.repmat(sourceLocations[i,:],np.size(exclude,0),1)+exclude)\n",
    "\n",
    "a = np.reshape(sensors_to_exclude,(9*5,2))"
   ]
  },
  {
   "cell_type": "code",
   "execution_count": 485,
   "metadata": {},
   "outputs": [],
   "source": [
    "# sensors_to_exclude"
   ]
  },
  {
   "cell_type": "code",
   "execution_count": 486,
   "metadata": {},
   "outputs": [],
   "source": [
    "# a"
   ]
  },
  {
   "cell_type": "code",
   "execution_count": 409,
   "metadata": {},
   "outputs": [
    {
     "data": {
      "text/plain": [
       "(9, 2)"
      ]
     },
     "execution_count": 409,
     "metadata": {},
     "output_type": "execute_result"
    }
   ],
   "source": [
    "b = np.matlib.repmat(sourceLocations[i,:],np.size(exclude,0),1)+exclude\n",
    "np.shape(b)"
   ]
  },
  {
   "cell_type": "code",
   "execution_count": 415,
   "metadata": {},
   "outputs": [
    {
     "data": {
      "text/plain": [
       "(0,)"
      ]
     },
     "execution_count": 415,
     "metadata": {},
     "output_type": "execute_result"
    }
   ],
   "source": [
    "sensors_to_exclude = np.array\n",
    "np.shape(sensors_to_exclude)"
   ]
  },
  {
   "cell_type": "code",
   "execution_count": 402,
   "metadata": {},
   "outputs": [
    {
     "ename": "ValueError",
     "evalue": "all the input arrays must have same number of dimensions",
     "output_type": "error",
     "traceback": [
      "\u001b[0;31m---------------------------------------------------------------------------\u001b[0m",
      "\u001b[0;31mValueError\u001b[0m                                Traceback (most recent call last)",
      "\u001b[0;32m<ipython-input-402-cefa32af1d68>\u001b[0m in \u001b[0;36m<module>\u001b[0;34m()\u001b[0m\n\u001b[1;32m      1\u001b[0m \u001b[0msensors_to_exclude\u001b[0m \u001b[0;34m=\u001b[0m \u001b[0mnp\u001b[0m\u001b[0;34m.\u001b[0m\u001b[0marray\u001b[0m\u001b[0;34m(\u001b[0m\u001b[0;34m[\u001b[0m\u001b[0;34m]\u001b[0m\u001b[0;34m)\u001b[0m\u001b[0;34m\u001b[0m\u001b[0m\n\u001b[1;32m      2\u001b[0m \u001b[0;32mfor\u001b[0m \u001b[0mi\u001b[0m \u001b[0;32min\u001b[0m \u001b[0mrange\u001b[0m\u001b[0;34m(\u001b[0m\u001b[0mnumOfSources\u001b[0m\u001b[0;34m)\u001b[0m\u001b[0;34m:\u001b[0m\u001b[0;34m\u001b[0m\u001b[0m\n\u001b[0;32m----> 3\u001b[0;31m     \u001b[0msensors_to_exclude\u001b[0m \u001b[0;34m=\u001b[0m \u001b[0mnp\u001b[0m\u001b[0;34m.\u001b[0m\u001b[0mconcatenate\u001b[0m\u001b[0;34m(\u001b[0m\u001b[0;34m[\u001b[0m\u001b[0msensors_to_exclude\u001b[0m\u001b[0;34m,\u001b[0m\u001b[0mnp\u001b[0m\u001b[0;34m.\u001b[0m\u001b[0mmatlib\u001b[0m\u001b[0;34m.\u001b[0m\u001b[0mrepmat\u001b[0m\u001b[0;34m(\u001b[0m\u001b[0msourceLocations\u001b[0m\u001b[0;34m[\u001b[0m\u001b[0mi\u001b[0m\u001b[0;34m,\u001b[0m\u001b[0;34m:\u001b[0m\u001b[0;34m]\u001b[0m\u001b[0;34m,\u001b[0m\u001b[0mnp\u001b[0m\u001b[0;34m.\u001b[0m\u001b[0msize\u001b[0m\u001b[0;34m(\u001b[0m\u001b[0mexclude\u001b[0m\u001b[0;34m,\u001b[0m\u001b[0;36m0\u001b[0m\u001b[0;34m)\u001b[0m\u001b[0;34m,\u001b[0m\u001b[0;36m1\u001b[0m\u001b[0;34m)\u001b[0m\u001b[0;34m+\u001b[0m\u001b[0mexclude\u001b[0m\u001b[0;34m]\u001b[0m\u001b[0;34m)\u001b[0m\u001b[0;34m\u001b[0m\u001b[0m\n\u001b[0m\u001b[1;32m      4\u001b[0m \u001b[0;34m\u001b[0m\u001b[0m\n\u001b[1;32m      5\u001b[0m \u001b[0;34m\u001b[0m\u001b[0m\n",
      "\u001b[0;31mValueError\u001b[0m: all the input arrays must have same number of dimensions"
     ]
    }
   ],
   "source": [
    "sensors_to_exclude = np.array([,])\n",
    "for i in range(numOfSources):\n",
    "    sensors_to_exclude = np.concatenate([sensors_to_exclude,np.matlib.repmat(sourceLocations[i,:],np.size(exclude,0),1)+exclude]) \n",
    "\n",
    "\n"
   ]
  },
  {
   "cell_type": "code",
   "execution_count": 448,
   "metadata": {},
   "outputs": [],
   "source": [
    "          "
   ]
  },
  {
   "cell_type": "code",
   "execution_count": 396,
   "metadata": {},
   "outputs": [
    {
     "data": {
      "text/plain": [
       "(5, 9, 2)"
      ]
     },
     "execution_count": 396,
     "metadata": {},
     "output_type": "execute_result"
    }
   ],
   "source": [
    "np.shape(sensors_to_exclude)"
   ]
  },
  {
   "cell_type": "code",
   "execution_count": 449,
   "metadata": {},
   "outputs": [
    {
     "data": {
      "text/plain": [
       "array([ 66,  68,  69,  70,  88,  89,  90,  91, 108, 109, 110, 111, 112,\n",
       "       129, 130, 131, 132, 150, 151, 152, 154])"
      ]
     },
     "execution_count": 449,
     "metadata": {},
     "output_type": "execute_result"
    }
   ],
   "source": [
    "np.unique(idx)"
   ]
  },
  {
   "cell_type": "code",
   "execution_count": 450,
   "metadata": {},
   "outputs": [
    {
     "data": {
      "text/plain": [
       "(21,)"
      ]
     },
     "execution_count": 450,
     "metadata": {},
     "output_type": "execute_result"
    }
   ],
   "source": [
    "np.shape(np.unique(idx))"
   ]
  },
  {
   "cell_type": "code",
   "execution_count": 446,
   "metadata": {},
   "outputs": [
    {
     "data": {
      "text/plain": [
       "True"
      ]
     },
     "execution_count": 446,
     "metadata": {},
     "output_type": "execute_result"
    }
   ],
   "source": [
    "all([True, True])"
   ]
  },
  {
   "cell_type": "code",
   "execution_count": null,
   "metadata": {},
   "outputs": [],
   "source": [
    "[(v[i] in m[i]) for i in range(len(v))]"
   ]
  },
  {
   "cell_type": "code",
   "execution_count": 351,
   "metadata": {},
   "outputs": [
    {
     "data": {
      "text/plain": [
       "[array([[150., 250.],\n",
       "        [150., 300.],\n",
       "        [150., 350.],\n",
       "        [200., 250.],\n",
       "        [200., 300.],\n",
       "        [200., 350.],\n",
       "        [250., 250.],\n",
       "        [250., 300.],\n",
       "        [250., 350.]]), array([[150., 250.],\n",
       "        [150., 300.],\n",
       "        [150., 350.],\n",
       "        [200., 250.],\n",
       "        [200., 300.],\n",
       "        [200., 350.],\n",
       "        [250., 250.],\n",
       "        [250., 300.],\n",
       "        [250., 350.]]), array([[150., 250.],\n",
       "        [150., 300.],\n",
       "        [150., 350.],\n",
       "        [200., 250.],\n",
       "        [200., 300.],\n",
       "        [200., 350.],\n",
       "        [250., 250.],\n",
       "        [250., 300.],\n",
       "        [250., 350.]]), array([[150., 250.],\n",
       "        [150., 300.],\n",
       "        [150., 350.],\n",
       "        [200., 250.],\n",
       "        [200., 300.],\n",
       "        [200., 350.],\n",
       "        [250., 250.],\n",
       "        [250., 300.],\n",
       "        [250., 350.]]), array([[150., 250.],\n",
       "        [150., 300.],\n",
       "        [150., 350.],\n",
       "        [200., 250.],\n",
       "        [200., 300.],\n",
       "        [200., 350.],\n",
       "        [250., 250.],\n",
       "        [250., 300.],\n",
       "        [250., 350.]])]"
      ]
     },
     "execution_count": 351,
     "metadata": {},
     "output_type": "execute_result"
    }
   ],
   "source": [
    "sensors_to_exclude"
   ]
  },
  {
   "cell_type": "code",
   "execution_count": null,
   "metadata": {},
   "outputs": [],
   "source": []
  },
  {
   "cell_type": "code",
   "execution_count": null,
   "metadata": {},
   "outputs": [],
   "source": [
    "clc; close all; clear all;\n",
    "\n",
    "NumOfVars = 5; % number of sources \n",
    "configFile = Configuration;\n",
    "boundery = configFile.GRID_SIZE;\n",
    "\n",
    "% Source emission rates \n",
    "Q_source(1:NumOfVars)=[configFile.Q_SOURCE_1 configFile.Q_SOURCE_2 configFile.Q_SOURCE_3 configFile.Q_SOURCE_4 configFile.Q_SOURCE_5];\n",
    "\n",
    "% Source locations\n",
    "sourceLocations = zeros(NumOfVars,2);\n",
    "sourceLocations(1,:) = configFile.SOURCE_1; %first column X location, second column Y location\n",
    "sourceLocations(2,:) = configFile.SOURCE_2;\n",
    "sourceLocations(3,:) = configFile.SOURCE_3;\n",
    "sourceLocations(4,:) = configFile.SOURCE_4;\n",
    "sourceLocations(5,:) = configFile.SOURCE_5;\n",
    "\n",
    "% place sensors all over the area\n",
    "[X,Y] = meshgrid(0:50:boundery,0:50:boundery);\n",
    "\n",
    "% Exclude sensors near sources (50 meters to each direction)\n",
    "[exclude_x, exclude_y] = meshgrid(-50:50:50,-50:50:50);\n",
    "exclude = zeros(numel(exclude_x),2);\n",
    "exclude(:,1)=reshape(exclude_x,[size(exclude_x,1)*size(exclude_x,2),1]);\n",
    "exclude(:,2)=reshape(exclude_y,[size(exclude_y,1)*size(exclude_y,2),1]);\n",
    "\n",
    "sensors_to_exclude = [repmat(sourceLocations(1,:),[size(exclude,1),1])+exclude...\n",
    "    ;repmat(sourceLocations(2,:),[size(exclude,1),1])+exclude...\n",
    "    ;repmat(sourceLocations(3,:),[size(exclude,1),1])+exclude...\n",
    "    ;repmat(sourceLocations(4,:),[size(exclude,1),1])+exclude...\n",
    "    ;repmat(sourceLocations(5,:),[size(exclude,1),1])+exclude];\n",
    "\n",
    "% all original sensors\n",
    "NumOfSens = numel(X);\n",
    "sensorArray = zeros(NumOfSens,3);\n",
    "sensorArray(:,1)=reshape(X,[size(X,1)*size(X,2),1]);\n",
    "sensorArray(:,2)=reshape(Y,[size(Y,1)*size(Y,2),1]);\n",
    "original_sensor_array = sensorArray;\n",
    "\n",
    "% these are the sensors to exclude\n",
    "[a,b] = ismember(sensorArray(:,1:2),sensors_to_exclude,'rows');\n",
    "sensorArray(a,:) = nan;\n"
   ]
  },
  {
   "cell_type": "code",
   "execution_count": 312,
   "metadata": {},
   "outputs": [],
   "source": [
    "boundery = 1000\n",
    "distanceBetweenSensors = 50\n",
    "[X,Y] = np.meshgrid(np.arange(0,boundery+distanceBetweenSensors,distanceBetweenSensors), np.arange(0,boundery+distanceBetweenSensors,distanceBetweenSensors))"
   ]
  },
  {
   "cell_type": "code",
   "execution_count": 311,
   "metadata": {},
   "outputs": [],
   "source": [
    "distanceFromSource = 50\n",
    "[exclude_x, exclude_y] = np.meshgrid(np.arange(-distanceFromSource,2*distanceFromSource,distanceFromSource),np.arange(-distanceFromSource,2*distanceFromSource,distanceFromSource))"
   ]
  },
  {
   "cell_type": "code",
   "execution_count": 318,
   "metadata": {},
   "outputs": [
    {
     "data": {
      "text/plain": [
       "(3, 3)"
      ]
     },
     "execution_count": 318,
     "metadata": {},
     "output_type": "execute_result"
    }
   ],
   "source": [
    "np.shape(exclude_x)"
   ]
  },
  {
   "cell_type": "code",
   "execution_count": null,
   "metadata": {},
   "outputs": [],
   "source": [
    "# constract a training set that is based on \"known-hours\" of emission (factors, from my excel)\n",
    "# over these hours use wind data \n",
    "# have several types of sensors - different price, different \"value\" (dynamic range and detection thr) \n",
    "# evaluate based on distance from budget and PED (or other parameter?)"
   ]
  },
  {
   "cell_type": "code",
   "execution_count": 320,
   "metadata": {},
   "outputs": [],
   "source": [
    "exclude = np.zeros((np.size(exclude_x),2))\n",
    "exclude[:,0]=np.reshape(exclude_x,(np.size(exclude_x,0)*np.size(exclude_x,1),),order = 'F')\n",
    "exclude[:,1]=np.reshape(exclude_y,(np.size(exclude_y,0)*np.size(exclude_y,1),),order = 'F')"
   ]
  },
  {
   "cell_type": "code",
   "execution_count": 342,
   "metadata": {},
   "outputs": [
    {
     "data": {
      "text/plain": [
       "441"
      ]
     },
     "execution_count": 342,
     "metadata": {},
     "output_type": "execute_result"
    }
   ],
   "source": [
    "np.size(X)"
   ]
  },
  {
   "cell_type": "code",
   "execution_count": 341,
   "metadata": {},
   "outputs": [
    {
     "data": {
      "text/plain": [
       "array([[150., 250.],\n",
       "       [150., 300.],\n",
       "       [150., 350.],\n",
       "       [200., 250.],\n",
       "       [200., 300.],\n",
       "       [200., 350.],\n",
       "       [250., 250.],\n",
       "       [250., 300.],\n",
       "       [250., 350.]])"
      ]
     },
     "execution_count": 341,
     "metadata": {},
     "output_type": "execute_result"
    }
   ],
   "source": [
    "np.matlib.repmat(sourceLocations[0,:],np.size(exclude,0),1)+exclude"
   ]
  },
  {
   "cell_type": "code",
   "execution_count": 336,
   "metadata": {},
   "outputs": [],
   "source": [
    "sourceLocations = np.array([[200,300],[200,300],[200,300],[200,300],[200,300]])"
   ]
  },
  {
   "cell_type": "code",
   "execution_count": 327,
   "metadata": {},
   "outputs": [
    {
     "data": {
      "text/plain": [
       "(5, 2)"
      ]
     },
     "execution_count": 327,
     "metadata": {},
     "output_type": "execute_result"
    }
   ],
   "source": [
    "np.shape(sourceLocations)"
   ]
  },
  {
   "cell_type": "code",
   "execution_count": 331,
   "metadata": {},
   "outputs": [
    {
     "data": {
      "text/plain": [
       "9"
      ]
     },
     "execution_count": 331,
     "metadata": {},
     "output_type": "execute_result"
    }
   ],
   "source": [
    "np.size(exclude,0)"
   ]
  },
  {
   "cell_type": "code",
   "execution_count": 339,
   "metadata": {},
   "outputs": [
    {
     "data": {
      "text/plain": [
       "array([200, 300])"
      ]
     },
     "execution_count": 339,
     "metadata": {},
     "output_type": "execute_result"
    }
   ],
   "source": [
    "sourceLocations[0,:]"
   ]
  },
  {
   "cell_type": "code",
   "execution_count": 346,
   "metadata": {},
   "outputs": [],
   "source": [
    "NumOfSensors = np.size(X)\n",
    "sensorArray = np.zeros((NumOfSensors,3))\n",
    "sensorArray[:,0]=np.reshape(X,(np.size(X,0)*np.size(X,1),),order = 'F')\n",
    "sensorArray[:,1]=np.reshape(Y,(np.size(Y,0)*np.size(Y,1),),order = 'F')"
   ]
  },
  {
   "cell_type": "code",
   "execution_count": 347,
   "metadata": {},
   "outputs": [
    {
     "data": {
      "text/plain": [
       "array([[   0.,    0.,    0.],\n",
       "       [   0.,   50.,    0.],\n",
       "       [   0.,  100.,    0.],\n",
       "       ...,\n",
       "       [1000.,  900.,    0.],\n",
       "       [1000.,  950.,    0.],\n",
       "       [1000., 1000.,    0.]])"
      ]
     },
     "execution_count": 347,
     "metadata": {},
     "output_type": "execute_result"
    }
   ],
   "source": [
    "sensorArray"
   ]
  },
  {
   "cell_type": "code",
   "execution_count": null,
   "metadata": {},
   "outputs": [],
   "source": []
  }
 ],
 "metadata": {
  "kernelspec": {
   "display_name": "Python 3",
   "language": "python",
   "name": "python3"
  },
  "language_info": {
   "codemirror_mode": {
    "name": "ipython",
    "version": 3
   },
   "file_extension": ".py",
   "mimetype": "text/x-python",
   "name": "python",
   "nbconvert_exporter": "python",
   "pygments_lexer": "ipython3",
   "version": "3.6.4"
  }
 },
 "nbformat": 4,
 "nbformat_minor": 2
}
