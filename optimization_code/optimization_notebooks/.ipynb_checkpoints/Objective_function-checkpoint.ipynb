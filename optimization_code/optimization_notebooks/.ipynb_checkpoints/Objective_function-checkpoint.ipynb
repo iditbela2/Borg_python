{
 "cells": [
  {
   "cell_type": "code",
   "execution_count": 152,
   "metadata": {},
   "outputs": [
    {
     "data": {
      "text/plain": [
       "'This is the objective function that is activated by the Borg \\nIt accepts a vector (x) that contains the decision variables and returns the objective values'"
      ]
     },
     "execution_count": 152,
     "metadata": {},
     "output_type": "execute_result"
    }
   ],
   "source": [
    "'''This is the objective function that is activated by the Borg \n",
    "It accepts a vector (x) that contains the decision variables and returns the objective values'''\n",
    "\n",
    "def objective_func(x):\n",
    "    objs = np.zeros((2,))\n",
    "    constrs = np.zeros((2,))\n",
    "\n",
    "    # OBJECTIVE - 1\n",
    "    # round the decision variables to 0 - no sensor and 1 - sensor is placed\n",
    "    x = np.round(x)\n",
    "    # objective 1 - minimize number of active sensors\n",
    "    objs[0] = np.sum(x)\n",
    "    \n",
    "    # CONSTRAINTS\n",
    "    # constrain of minimum two sensors (more realistic) and maximum? 50/100/300\n",
    "    cons1 = 2\n",
    "    cons2 = 100\n",
    "    if objs[0] < cons1:\n",
    "        constrs[0] = 1       \n",
    "    if objs[0] > cons2:\n",
    "        constrs[1] = 1\n",
    "    \n",
    "    # OBJECTIVE - 2   \n",
    "    # sum the sensors to calculate the final PED \n",
    "    total_summed_PED = np.sqrt(np.sum(total_PED.iloc[:,x==1],axis=1))     \n",
    "\n",
    "    # maximize min PEDs, given locations of active sensors.\n",
    "    [c,idx] = np.unique(total_variations[:,0:2],axis=0,return_inverse = True)\n",
    "    min_PED = total_summed_PED.groupby(idx).min()\n",
    "    mean_PED = np.mean(min_PED) \n",
    "\n",
    "    objs[1] = -mean_PED\n",
    " \n",
    "    return objs, constrs"
   ]
  },
  {
   "cell_type": "code",
   "execution_count": null,
   "metadata": {},
   "outputs": [],
   "source": []
  }
 ],
 "metadata": {
  "kernelspec": {
   "display_name": "Python 3",
   "language": "python",
   "name": "python3"
  },
  "language_info": {
   "codemirror_mode": {
    "name": "ipython",
    "version": 3
   },
   "file_extension": ".py",
   "mimetype": "text/x-python",
   "name": "python",
   "nbconvert_exporter": "python",
   "pygments_lexer": "ipython3",
   "version": "3.6.4"
  }
 },
 "nbformat": 4,
 "nbformat_minor": 2
}
