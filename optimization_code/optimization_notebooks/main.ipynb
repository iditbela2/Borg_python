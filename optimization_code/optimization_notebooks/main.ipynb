{
 "cells": [
  {
   "cell_type": "code",
   "execution_count": 1,
   "metadata": {},
   "outputs": [],
   "source": [
    "from math import *\n",
    "import sys"
   ]
  },
  {
   "cell_type": "code",
   "execution_count": 9,
   "metadata": {},
   "outputs": [],
   "source": [
    "# sys.path"
   ]
  },
  {
   "cell_type": "code",
   "execution_count": 10,
   "metadata": {},
   "outputs": [],
   "source": [
    "# sys.path.append('/Users/iditbela/Documents/Borg_python/Borg_downloaded_code/serial-borg-moea')\n",
    "# import plugins.Python.borg"
   ]
  },
  {
   "cell_type": "code",
   "execution_count": 53,
   "metadata": {},
   "outputs": [],
   "source": [
    "import numpy as np\n",
    "import scipy.io as sio\n",
    "import datetime\n",
    "import tqdm\n",
    "import pandas as pd # data processing, CSV file I/O (e.g. pd.read_csv)\n",
    "import matplotlib.pyplot as plt\n",
    "from sklearn.model_selection import train_test_split\n",
    "from sklearn import preprocessing\n",
    "import seaborn as sns; sns.set(style=\"ticks\", color_codes=True)\n",
    "\n",
    "from IPython.core.interactiveshell import InteractiveShell\n",
    "InteractiveShell.ast_node_interactivity = \"all\""
   ]
  },
  {
   "cell_type": "code",
   "execution_count": 54,
   "metadata": {},
   "outputs": [],
   "source": [
    "global total_PED \n",
    "global total_variations\n",
    "global cnt\n",
    "global total_objs\n",
    "global total_x"
   ]
  },
  {
   "cell_type": "code",
   "execution_count": 55,
   "metadata": {},
   "outputs": [],
   "source": [
    "mat = sio.loadmat('/Users/iditbela/Documents/Shai_Kendler/Borg-1.9/Results/total_PED_sensors_winds_SC_mult_RP.mat')\n",
    "total_PED = mat['total_PED_sensors_winds_mult']\n",
    "# change total_PED to a dataframe \n",
    "total_PED = pd.DataFrame(data = total_PED)"
   ]
  },
  {
   "cell_type": "code",
   "execution_count": 56,
   "metadata": {},
   "outputs": [],
   "source": [
    "mat = sio.loadmat('/Users/iditbela/Documents/Shai_Kendler/Borg-1.9/Results/total_ind_RP.mat')\n",
    "total_variations = mat['total_ind']"
   ]
  },
  {
   "cell_type": "code",
   "execution_count": 57,
   "metadata": {},
   "outputs": [],
   "source": [
    "cnt = 0 "
   ]
  },
  {
   "cell_type": "code",
   "execution_count": 58,
   "metadata": {},
   "outputs": [],
   "source": [
    "total_objs = []\n",
    "total_x = []"
   ]
  },
  {
   "cell_type": "code",
   "execution_count": 59,
   "metadata": {},
   "outputs": [],
   "source": [
    "# which indeces are NaNs?\n",
    "nan_idx = np.where(total_PED.iloc[0].isnull())\n",
    "NumOfSens_reduced = np.shape(total_PED)[1] - np.shape(nan_idx)[1]\n",
    "total_PED.drop(total_PED.columns[nan_idx], axis=1, inplace=True)"
   ]
  },
  {
   "cell_type": "code",
   "execution_count": null,
   "metadata": {},
   "outputs": [],
   "source": [
    "# run borg \n",
    "\n",
    "NumOfVars = NumOfSens_reduced  # Number of sensors\n",
    "NumOfObj = 2 # Number of Objectives \n",
    "NumOfCons = 2 \n",
    "NFE=10e5 # the number of objective function evaluations, defines how many times\n",
    "#the Borg MOEA can invoke objectiveFcn.  Once the NFE limit is reached, the\n",
    "#algorithm terminates and returns the result. \n",
    "\n",
    "borg = Borg(NumOfVars, NumOfObj, 0, objective_func)\n",
    "borg.setBounds(*[[0, 1]]*NumOfVars)\n",
    "borg.setEpsilons([1 0.5e-7])\n",
    "\n",
    "result = borg.solve({\"maxEvaluations\":NFE})"
   ]
  },
  {
   "cell_type": "code",
   "execution_count": null,
   "metadata": {},
   "outputs": [],
   "source": []
  },
  {
   "cell_type": "code",
   "execution_count": null,
   "metadata": {},
   "outputs": [],
   "source": []
  }
 ],
 "metadata": {
  "celltoolbar": "Raw Cell Format",
  "kernelspec": {
   "display_name": "Python 3",
   "language": "python",
   "name": "python3"
  },
  "language_info": {
   "codemirror_mode": {
    "name": "ipython",
    "version": 3
   },
   "file_extension": ".py",
   "mimetype": "text/x-python",
   "name": "python",
   "nbconvert_exporter": "python",
   "pygments_lexer": "ipython3",
   "version": "3.6.4"
  }
 },
 "nbformat": 4,
 "nbformat_minor": 2
}
